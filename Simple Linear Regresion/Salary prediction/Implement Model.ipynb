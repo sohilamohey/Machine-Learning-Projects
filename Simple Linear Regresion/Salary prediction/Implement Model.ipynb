{
 "cells": [
  {
   "cell_type": "code",
   "execution_count": 18,
   "metadata": {},
   "outputs": [],
   "source": [
    "import pandas as pd\n",
    "import matplotlib.pyplot as plt\n",
    "import numpy as np\n",
    "import math\n",
    "from sklearn.metrics import r2_score"
   ]
  },
  {
   "cell_type": "code",
   "execution_count": 2,
   "metadata": {},
   "outputs": [],
   "source": [
    "df = pd.read_csv('Salary_dataset.csv')"
   ]
  },
  {
   "cell_type": "code",
   "execution_count": 3,
   "metadata": {},
   "outputs": [
    {
     "data": {
      "text/html": [
       "<div>\n",
       "<style scoped>\n",
       "    .dataframe tbody tr th:only-of-type {\n",
       "        vertical-align: middle;\n",
       "    }\n",
       "\n",
       "    .dataframe tbody tr th {\n",
       "        vertical-align: top;\n",
       "    }\n",
       "\n",
       "    .dataframe thead th {\n",
       "        text-align: right;\n",
       "    }\n",
       "</style>\n",
       "<table border=\"1\" class=\"dataframe\">\n",
       "  <thead>\n",
       "    <tr style=\"text-align: right;\">\n",
       "      <th></th>\n",
       "      <th>Unnamed: 0</th>\n",
       "      <th>YearsExperience</th>\n",
       "      <th>Salary</th>\n",
       "    </tr>\n",
       "  </thead>\n",
       "  <tbody>\n",
       "    <tr>\n",
       "      <th>0</th>\n",
       "      <td>0</td>\n",
       "      <td>1.2</td>\n",
       "      <td>39344.0</td>\n",
       "    </tr>\n",
       "    <tr>\n",
       "      <th>1</th>\n",
       "      <td>1</td>\n",
       "      <td>1.4</td>\n",
       "      <td>46206.0</td>\n",
       "    </tr>\n",
       "    <tr>\n",
       "      <th>2</th>\n",
       "      <td>2</td>\n",
       "      <td>1.6</td>\n",
       "      <td>37732.0</td>\n",
       "    </tr>\n",
       "    <tr>\n",
       "      <th>3</th>\n",
       "      <td>3</td>\n",
       "      <td>2.1</td>\n",
       "      <td>43526.0</td>\n",
       "    </tr>\n",
       "    <tr>\n",
       "      <th>4</th>\n",
       "      <td>4</td>\n",
       "      <td>2.3</td>\n",
       "      <td>39892.0</td>\n",
       "    </tr>\n",
       "  </tbody>\n",
       "</table>\n",
       "</div>"
      ],
      "text/plain": [
       "   Unnamed: 0  YearsExperience   Salary\n",
       "0           0              1.2  39344.0\n",
       "1           1              1.4  46206.0\n",
       "2           2              1.6  37732.0\n",
       "3           3              2.1  43526.0\n",
       "4           4              2.3  39892.0"
      ]
     },
     "execution_count": 3,
     "metadata": {},
     "output_type": "execute_result"
    }
   ],
   "source": [
    "df.head()"
   ]
  },
  {
   "cell_type": "code",
   "execution_count": 4,
   "metadata": {},
   "outputs": [],
   "source": [
    "df.drop(columns = {'Unnamed: 0'}, inplace = True)"
   ]
  },
  {
   "cell_type": "code",
   "execution_count": 5,
   "metadata": {},
   "outputs": [
    {
     "data": {
      "text/plain": [
       "(30, 2)"
      ]
     },
     "execution_count": 5,
     "metadata": {},
     "output_type": "execute_result"
    }
   ],
   "source": [
    "df.shape"
   ]
  },
  {
   "cell_type": "code",
   "execution_count": 6,
   "metadata": {},
   "outputs": [
    {
     "data": {
      "text/plain": [
       "0      1.2\n",
       "1      1.4\n",
       "2      1.6\n",
       "3      2.1\n",
       "4      2.3\n",
       "5      3.0\n",
       "6      3.1\n",
       "7      3.3\n",
       "8      3.3\n",
       "9      3.8\n",
       "10     4.0\n",
       "11     4.1\n",
       "12     4.1\n",
       "13     4.2\n",
       "14     4.6\n",
       "15     5.0\n",
       "16     5.2\n",
       "17     5.4\n",
       "18     6.0\n",
       "19     6.1\n",
       "20     6.9\n",
       "21     7.2\n",
       "22     8.0\n",
       "23     8.3\n",
       "24     8.8\n",
       "25     9.1\n",
       "26     9.6\n",
       "27     9.7\n",
       "28    10.4\n",
       "29    10.6\n",
       "Name: YearsExperience, dtype: float64"
      ]
     },
     "execution_count": 6,
     "metadata": {},
     "output_type": "execute_result"
    }
   ],
   "source": [
    "x_train = df.YearsExperience\n",
    "x_train"
   ]
  },
  {
   "cell_type": "code",
   "execution_count": 7,
   "metadata": {},
   "outputs": [
    {
     "data": {
      "text/plain": [
       "0      39344.0\n",
       "1      46206.0\n",
       "2      37732.0\n",
       "3      43526.0\n",
       "4      39892.0\n",
       "5      56643.0\n",
       "6      60151.0\n",
       "7      54446.0\n",
       "8      64446.0\n",
       "9      57190.0\n",
       "10     63219.0\n",
       "11     55795.0\n",
       "12     56958.0\n",
       "13     57082.0\n",
       "14     61112.0\n",
       "15     67939.0\n",
       "16     66030.0\n",
       "17     83089.0\n",
       "18     81364.0\n",
       "19     93941.0\n",
       "20     91739.0\n",
       "21     98274.0\n",
       "22    101303.0\n",
       "23    113813.0\n",
       "24    109432.0\n",
       "25    105583.0\n",
       "26    116970.0\n",
       "27    112636.0\n",
       "28    122392.0\n",
       "29    121873.0\n",
       "Name: Salary, dtype: float64"
      ]
     },
     "execution_count": 7,
     "metadata": {},
     "output_type": "execute_result"
    }
   ],
   "source": [
    "y_train = df.Salary\n",
    "y_train"
   ]
  },
  {
   "cell_type": "code",
   "execution_count": 24,
   "metadata": {},
   "outputs": [
    {
     "data": {
      "image/png": "[encoded data removed]",
      "text/plain": [
       "<Figure size 640x480 with 1 Axes>"
      ]
     },
     "metadata": {},
     "output_type": "display_data"
    }
   ],
   "source": [
    "# Plot the data points\n",
    "plt.scatter(x_train, y_train, marker='x', c='r')\n",
    "# Set the title\n",
    "plt.title(\"Salary & Year Of Experaince\")\n",
    "# Set the y-axis label\n",
    "plt.xlabel('Years Of Experaince')\n",
    "# Set the x-axis label\n",
    "plt.ylabel('Salary')\n",
    "plt.show()"
   ]
  },
  {
   "cell_type": "markdown",
   "metadata": {},
   "source": [
    "### Model function"
   ]
  },
  {
   "cell_type": "markdown",
   "metadata": {},
   "source": [
    "- f_wb = w * x[0] + b\n",
    "- f_wb = w * x[1] + b"
   ]
  },
  {
   "cell_type": "code",
   "execution_count": 9,
   "metadata": {},
   "outputs": [],
   "source": [
    "def compute_model_output(x, w, b):\n",
    "    m = x.shape[0]\n",
    "    ## model prediction\n",
    "    f_wb = np.zeros(m)\n",
    "    for i in range(m):\n",
    "        f_wb[i] = w * x[i] + b        \n",
    "    return f_wb"
   ]
  },
  {
   "cell_type": "code",
   "execution_count": 10,
   "metadata": {},
   "outputs": [],
   "source": [
    "def compute_cost(x, y, w, b): \n",
    "    m = x.shape[0] \n",
    "    \n",
    "    cost_sum = 0 \n",
    "    for i in range(m): \n",
    "        f_wb = w * x[i] + b   \n",
    "        cost = (f_wb - y[i]) ** 2  \n",
    "        cost_sum = cost_sum + cost  \n",
    "    total_cost = (1 / (2 * m)) * cost_sum  \n",
    "\n",
    "    return total_cost"
   ]
  },
  {
   "cell_type": "code",
   "execution_count": 11,
   "metadata": {},
   "outputs": [],
   "source": [
    "def compute_gradient(x, y, w, b): \n",
    "    # Number of training examples\n",
    "    m = x.shape[0]    \n",
    "    dj_dw = 0\n",
    "    dj_db = 0\n",
    "    \n",
    "    for i in range(m):  \n",
    "        f_wb = w * x[i] + b \n",
    "        dj_dw_i = (f_wb - y[i]) * x[i] \n",
    "        dj_db_i = f_wb - y[i] \n",
    "        dj_db += dj_db_i\n",
    "        dj_dw += dj_dw_i \n",
    "    dj_dw = dj_dw / m \n",
    "    dj_db = dj_db / m \n",
    "        \n",
    "    return dj_dw, dj_db"
   ]
  },
  {
   "cell_type": "code",
   "execution_count": 12,
   "metadata": {},
   "outputs": [],
   "source": [
    "def gradient_descent(x, y, w_in, b_in, alpha, num_iters, cost_function, gradient_function): \n",
    "       # An array to store cost J and w's at each iteration primarily for graphing later\n",
    "    J_history = []\n",
    "    p_history = []\n",
    "    b = b_in\n",
    "    w = w_in\n",
    "    \n",
    "    for i in range(num_iters):\n",
    "        # Calculate the gradient and update the parameters using gradient_function\n",
    "        dj_dw, dj_db = gradient_function(x, y, w , b)     \n",
    "\n",
    "        # Update Parameters using equation (3) above\n",
    "        b = b - alpha * dj_db                            \n",
    "        w = w - alpha * dj_dw                            \n",
    "\n",
    "        # Save cost J at each iteration\n",
    "        if i<100000:      # prevent resource exhaustion \n",
    "            J_history.append( cost_function(x, y, w , b))\n",
    "            p_history.append([w,b])\n",
    "        # Print cost every at intervals 10 times or as many iterations if < 10\n",
    "        if i% math.ceil(num_iters/10) == 0:\n",
    "            print(f\"Iteration {i:4}: Cost {J_history[-1]:0.2e} \",\n",
    "                  f\"dj_dw: {dj_dw: 0.3e}, dj_db: {dj_db: 0.3e}  \",\n",
    "                  f\"w: {w: 0.3e}, b:{b: 0.5e}\")\n",
    " \n",
    "    return w, b, J_history, p_history #return w and J,w history for graphing"
   ]
  },
  {
   "cell_type": "code",
   "execution_count": 13,
   "metadata": {},
   "outputs": [
    {
     "name": "stdout",
     "output_type": "stream",
     "text": [
      "Iteration    0: Cost 1.30e+09  dj_dw: -4.850e+05, dj_db: -7.600e+04   w:  4.850e+03, b: 7.60040e+02\n",
      "Iteration 1000: Cost 1.65e+07  dj_dw:  8.854e+01, dj_db: -6.033e+02   w:  9.880e+03, b: 2.19186e+04\n",
      "Iteration 2000: Cost 1.57e+07  dj_dw:  1.132e+01, dj_db: -7.711e+01   w:  9.505e+03, b: 2.44737e+04\n",
      "Iteration 3000: Cost 1.56e+07  dj_dw:  1.447e+00, dj_db: -9.856e+00   w:  9.457e+03, b: 2.48003e+04\n",
      "Iteration 4000: Cost 1.56e+07  dj_dw:  1.849e-01, dj_db: -1.260e+00   w:  9.451e+03, b: 2.48421e+04\n",
      "Iteration 5000: Cost 1.56e+07  dj_dw:  2.363e-02, dj_db: -1.610e-01   w:  9.450e+03, b: 2.48474e+04\n",
      "Iteration 6000: Cost 1.56e+07  dj_dw:  3.021e-03, dj_db: -2.058e-02   w:  9.450e+03, b: 2.48481e+04\n",
      "Iteration 7000: Cost 1.56e+07  dj_dw:  3.862e-04, dj_db: -2.631e-03   w:  9.450e+03, b: 2.48482e+04\n",
      "Iteration 8000: Cost 1.56e+07  dj_dw:  4.936e-05, dj_db: -3.363e-04   w:  9.450e+03, b: 2.48482e+04\n",
      "Iteration 9000: Cost 1.56e+07  dj_dw:  6.309e-06, dj_db: -4.299e-05   w:  9.450e+03, b: 2.48482e+04\n",
      "(w,b) found by gradient descent: (9449.9623,24848.2039)\n"
     ]
    }
   ],
   "source": [
    "# initialize parameters\n",
    "w_init = 0\n",
    "b_init = 0\n",
    "# some gradient descent settings\n",
    "iterations = 10000\n",
    "tmp_alpha = 1.0e-2\n",
    "# run gradient descent\n",
    "w_final, b_final, J_hist, p_hist = gradient_descent(x_train ,y_train, w_init, b_init, tmp_alpha, \n",
    "                                                    iterations, compute_cost, compute_gradient)\n",
    "print(f\"(w,b) found by gradient descent: ({w_final:8.4f},{b_final:8.4f})\")"
   ]
  },
  {
   "cell_type": "markdown",
   "metadata": {},
   "source": [
    "## Computer the mode output again after calculate W , B"
   ]
  },
  {
   "cell_type": "code",
   "execution_count": 14,
   "metadata": {},
   "outputs": [
    {
     "data": {
      "text/plain": [
       "array([ 36188.15873024,  38078.15119532,  39968.14366039,  44693.12482308,\n",
       "        46583.11728816,  53198.09091592,  54143.08714846,  56033.07961354,\n",
       "        56033.07961354,  60758.06077623,  62648.0532413 ,  63593.04947384,\n",
       "        63593.04947384,  64538.04570638,  68318.03063653,  72098.01556668,\n",
       "        73988.00803176,  75878.00049683,  81547.97789206,  82492.9741246 ,\n",
       "        90052.9439849 ,  92887.93268252, 100447.90254282, 103282.89124043,\n",
       "       108007.87240312, 110842.86110074, 115567.84226343, 116512.83849596,\n",
       "       123127.81212373, 125017.80458881])"
      ]
     },
     "execution_count": 14,
     "metadata": {},
     "output_type": "execute_result"
    }
   ],
   "source": [
    "tmp_f_wbFinal = compute_model_output(x_train, w_final, b_final)\n",
    "tmp_f_wbFinal\n"
   ]
  },
  {
   "cell_type": "code",
   "execution_count": 25,
   "metadata": {},
   "outputs": [
    {
     "data": {
      "image/png": "[encoded data removed]",
      "text/plain": [
       "<Figure size 640x480 with 1 Axes>"
      ]
     },
     "metadata": {},
     "output_type": "display_data"
    }
   ],
   "source": [
    "# Plot our model prediction\n",
    "plt.plot(x_train, tmp_f_wbFinal, c='b',label='Our Prediction')\n",
    "\n",
    "# Plot the data points\n",
    "plt.scatter(x_train, y_train, marker='x', c='r',label='Actual Values')\n",
    "plt.title(\"Salary & Year Of Experaince\")\n",
    "# Set the y-axis label\n",
    "plt.xlabel('Years Of Experaince')\n",
    "# Set the x-axis label\n",
    "plt.ylabel('Salary')\n",
    "plt.legend()\n",
    "plt.show()"
   ]
  },
  {
   "cell_type": "markdown",
   "metadata": {},
   "source": [
    "## Cost between Train data and pridict data"
   ]
  },
  {
   "cell_type": "code",
   "execution_count": 16,
   "metadata": {},
   "outputs": [
    {
     "data": {
      "text/plain": [
       "2.9032624346445946e+17"
      ]
     },
     "execution_count": 16,
     "metadata": {},
     "output_type": "execute_result"
    }
   ],
   "source": [
    "compute_cost(y_train, tmp_f_wbFinal, w_final, b_final)"
   ]
  },
  {
   "cell_type": "code",
   "execution_count": 23,
   "metadata": {},
   "outputs": [
    {
     "name": "stdout",
     "output_type": "stream",
     "text": [
      "Accuracy of Model is 95.7%\n"
     ]
    }
   ],
   "source": [
    "# R2 score\n",
    "print(f'Accuracy of Model is {round(r2_score(y_train, tmp_f_wbFinal) * 100, 2)}%')"
   ]
  },
  {
   "cell_type": "markdown",
   "metadata": {},
   "source": [
    "## Predict Some Salaries"
   ]
  },
  {
   "cell_type": "code",
   "execution_count": 17,
   "metadata": {},
   "outputs": [
    {
     "name": "stdout",
     "output_type": "stream",
     "text": [
      "Experaince = 4 salary prediction 62648.1$\n"
     ]
    }
   ],
   "source": [
    "print(f'Experaince = 4 salary prediction {w_final * 4 + b_final:0.1f}$')"
   ]
  }
 ],
 "metadata": {
  "kernelspec": {
   "display_name": "base",
   "language": "python",
   "name": "python3"
  },
  "language_info": {
   "codemirror_mode": {
    "name": "ipython",
    "version": 3
   },
   "file_extension": ".py",
   "mimetype": "text/x-python",
   "name": "python",
   "nbconvert_exporter": "python",
   "pygments_lexer": "ipython3",
   "version": "3.9.13"
  }
 },
 "nbformat": 4,
 "nbformat_minor": 2
}
